{
 "cells": [
  {
   "cell_type": "code",
   "execution_count": 2,
   "metadata": {},
   "outputs": [],
   "source": [
    "import h5py\n",
    "import numpy as np\n",
    "from scipy.spatial.transform import Rotation as R\n",
    "import matplotlib.pyplot as plt\n",
    "%matplotlib notebook\n",
    "from mpl_toolkits import mplot3d \n",
    "import trimesh\n",
    "# import pyrender\n",
    "\n",
    "import pytorch3d\n",
    "import torch\n",
    "import pytorch3d.transforms"
   ]
  },
  {
   "cell_type": "code",
   "execution_count": 3,
   "metadata": {},
   "outputs": [],
   "source": [
    "# filepath = \"/Users/rahulmv/Desktop/Dominoes/pilot_dominoes_0mid_d3chairs_o1plants_tdwroom_0124.hdf5\"\n",
    "# filepath = \"/mnt/fs3/rmvenkat/data/physion_data/dominoes_one/train/pilot_dominoes_0mid_d3chairs_o1plants_tdwroom/0014.hdf5\"\n",
    "# filepath = \"/mnt/fs3/rmvenkat/data/physion_train_data/dynamics_training/Collide/pilot_it2_collision_assorted_targets_box_0000.hdf5\"\n",
    "\n",
    "# filepath = \"/mnt/fs3/rmvenkat/data/physion_train_data/dynamics_training/Roll/pilot_it2_rollingSliding_simple_ramp_tdw_1_dis_1_occ_0142.hdf5\"\n",
    "\n",
    "filepath = \"/mnt/fs3/rmvenkat/data/physion_train_data/dynamics_training/Collide/encodings/bbox.hdf5\"\n",
    "\n",
    "\n",
    "f = h5py.File(filepath)\n",
    "\n",
    "name = filepath.split('/')[-1].split('.')[0]"
   ]
  },
  {
   "cell_type": "code",
   "execution_count": 12,
   "metadata": {},
   "outputs": [
    {
     "data": {
      "text/plain": [
       "<HDF5 dataset \"000025\": shape (151, 3, 9), type \"<f8\">"
      ]
     },
     "execution_count": 12,
     "metadata": {},
     "output_type": "execute_result"
    }
   ],
   "source": [
    "encoding_arrf['train_enc']['000025']"
   ]
  },
  {
   "cell_type": "code",
   "execution_count": 263,
   "metadata": {},
   "outputs": [
    {
     "data": {
      "text/plain": [
       "<KeysViewHDF5 ['angular_velocities', 'back', 'bottom', 'center', 'forwards', 'front', 'left', 'positions', 'right', 'rotations', 'top', 'velocities']>"
      ]
     },
     "execution_count": 263,
     "metadata": {},
     "output_type": "execute_result"
    }
   ],
   "source": [
    "f['frames']['0000']['objects'].keys()"
   ]
  },
  {
   "cell_type": "code",
   "execution_count": 264,
   "metadata": {},
   "outputs": [
    {
     "data": {
      "text/plain": [
       "array([b'coffee_005_13'], dtype=object)"
      ]
     },
     "execution_count": 264,
     "metadata": {},
     "output_type": "execute_result"
    }
   ],
   "source": [
    "np.array(f['static']['distractors'])"
   ]
  },
  {
   "cell_type": "code",
   "execution_count": 265,
   "metadata": {},
   "outputs": [
    {
     "data": {
      "text/plain": [
       "array([b'cube', b'cube', b'ramp_with_platform_30', b'coffee_005_13',\n",
       "       b'07_01_001'], dtype=object)"
      ]
     },
     "execution_count": 265,
     "metadata": {},
     "output_type": "execute_result"
    }
   ],
   "source": [
    "np.array(f['static']['model_names'])"
   ]
  },
  {
   "cell_type": "code",
   "execution_count": 266,
   "metadata": {},
   "outputs": [
    {
     "data": {
      "text/plain": [
       "array([0, 1, 2, 3, 4])"
      ]
     },
     "execution_count": 266,
     "metadata": {},
     "output_type": "execute_result"
    }
   ],
   "source": [
    "np.arange(len(f['static']['object_ids']))"
   ]
  },
  {
   "cell_type": "code",
   "execution_count": 267,
   "metadata": {},
   "outputs": [
    {
     "data": {
      "text/plain": [
       "array([[2.05     , 0.01     , 2.05     ],\n",
       "       [0.25     , 0.25     , 0.25     ],\n",
       "       [0.2      , 1.       , 0.5      ],\n",
       "       [1.5475597, 1.5475597, 1.5475597],\n",
       "       [1.5868503, 1.5868503, 1.5868503]], dtype=float32)"
      ]
     },
     "execution_count": 267,
     "metadata": {},
     "output_type": "execute_result"
    }
   ],
   "source": [
    " f[\"static\"][\"scale\"][:]"
   ]
  },
  {
   "cell_type": "code",
   "execution_count": 268,
   "metadata": {},
   "outputs": [],
   "source": [
    "object_ids = np.arange(len(f['static']['object_ids']))"
   ]
  },
  {
   "cell_type": "code",
   "execution_count": 269,
   "metadata": {},
   "outputs": [
    {
     "data": {
      "text/plain": [
       "array([1, 3, 2, 4, 5], dtype=int32)"
      ]
     },
     "execution_count": 269,
     "metadata": {},
     "output_type": "execute_result"
    }
   ],
   "source": [
    "np.array(f['static']['object_ids'])"
   ]
  },
  {
   "cell_type": "code",
   "execution_count": 270,
   "metadata": {},
   "outputs": [],
   "source": [
    "def get_ax(fig):\n",
    "    ax = fig.add_subplot(projection='3d')\n",
    "    ax.set_xlim(-2, 2)\n",
    "    ax.set_ylim(-0.5, 2)\n",
    "    ax.set_zlim(-2, 2)\n",
    "    \n",
    "#     ax.set_xlim(-100, 100)\n",
    "#     ax.set_ylim(-50, 50)\n",
    "#     ax.set_zlim(-100, 100)\n",
    "    ax.view_init(elev=30., azim=30, vertical_axis='y')\n",
    "    return ax\n",
    "\n",
    "def plot_box(pts, colors, close=False):\n",
    "    fig = plt.figure(figsize=[20, 20])\n",
    "    ax = fig.add_subplot(projection='3d')\n",
    "    ax.set_xlim(-2, 2)\n",
    "    ax.set_ylim(-2, 2)\n",
    "    ax.set_zlim(-2, 2)\n",
    "    ax.view_init(elev=100., azim=-90)\n",
    "    ax.scatter(pts[:, 0], pts[:, 1], pts[:, 2], c=colors)\n",
    "    return fig\n",
    "#     plt.close(fig)\n",
    "# plot_box(vertices_orig, colors=[[0, 0, 1]])\n",
    "\n",
    "def get_transformed_pts(pts, rotations, trans):\n",
    "#     frame = str(frame).zfill(4)\n",
    "\n",
    "    rot = R.from_quat(rotations).as_matrix()\n",
    "    transformed_pts = np.matmul(rot, pts.T).T + np.expand_dims(trans, axis=0)\n",
    "    \n",
    "    return transformed_pts\n",
    "\n",
    "import colorsys \n",
    " \n",
    "def HSVToRGB(h, s, v): \n",
    "    (r, g, b) = colorsys.hsv_to_rgb(h, s, v) \n",
    "    return (int(255*r), int(255*g), int(255*b)) \n",
    " \n",
    "def getDistinctColors(n): \n",
    "    huePartition = 1.0 / (n + 1) \n",
    "    return np.array(list((HSVToRGB(huePartition * value, .4, .5) for value in range(0, n))))/255.0\n",
    "\n",
    "\n",
    "def get_vertices_scaled(f, obj_id, ob):\n",
    "    \n",
    "#     ob = obj_id\n",
    "    \n",
    "#     if obj_id == 1:\n",
    "#         ob = 2\n",
    "#     if obj_id == 2:\n",
    "#         ob = 1\n",
    "    \n",
    "    vertices_orig = np.array(f['static']['mesh']['vertices_' + str(ob)])\n",
    "\n",
    "    scales = f[\"static\"][\"scale\"][:]\n",
    "\n",
    "    vertices_orig[:,0] *= scales[obj_id, 0]\n",
    "    vertices_orig[:,1] *= scales[obj_id, 1]\n",
    "    vertices_orig[:,2] *= scales[obj_id, 2]\n",
    "    faces_orig = np.array(f['static']['mesh']['faces_' + str(ob)])\n",
    "    \n",
    "    return vertices_orig, faces_orig\n",
    "        \n",
    "def draw3DRectangle(ax, x1, y1, z1, x2, y2, z2, color):\n",
    "#     ax.set_xlim(-2, 2)\n",
    "#     ax.set_ylim(-2, 2)\n",
    "#     ax.set_zlim(-2, 2)\n",
    "    # the Translate the datatwo sets of coordinates form the apposite diagonal points of a cuboid\n",
    "    ax.plot([x1, x2], [y1, y1], [z1, z1], color=color) # | (up)\n",
    "    ax.plot([x2, x2], [y1, y2], [z1, z1], color=color) # -->\n",
    "    ax.plot([x2, x1], [y2, y2], [z1, z1], color=color) # | (down)\n",
    "    ax.plot([x1, x1], [y2, y1], [z1, z1], color=color) # <--\n",
    "\n",
    "    ax.plot([x1, x2], [y1, y1], [z2, z2], color=color) # | (up)\n",
    "    ax.plot([x2, x2], [y1, y2], [z2, z2], color=color) # -->\n",
    "    ax.plot([x2, x1], [y2, y2], [z2, z2], color=color) # | (down)\n",
    "    ax.plot([x1, x1], [y2, y1], [z2, z2], color=color) # <--\n",
    "    \n",
    "    ax.plot([x1, x1], [y1, y1], [z1, z2], color=color) # | (up)\n",
    "    ax.plot([x2, x2], [y2, y2], [z1, z2], color=color) # -->\n",
    "    ax.plot([x1, x1], [y2, y2], [z1, z2], color=color) # | (down)\n",
    "    ax.plot([x2, x2], [y1, y1], [z1, z2], color=color) # <--\n",
    "\n",
    "def draw3DRectangleBox(ax, edges, pts, all_pt, color):\n",
    "#     ax.set_xlim(-2, 2)\n",
    "#     ax.set_ylim(-2, 2)\n",
    "#     ax.set_zlim(-2, 2)\n",
    "    # the Translate the data two sets of coordinates form the apposite diagonal points of a cuboid\n",
    "    for edge in edges:\n",
    "        x1, y1, z1 = pts[edge[0]]\n",
    "        x2, y2, z2 = pts[edge[1]]\n",
    "        ax.plot([x1, x2], [y1, y2], [z1, z2], color=color) # | (up\n",
    "\n",
    "    ax.scatter(pts[:, 0], pts[:, 1], pts[:, 2], color=color)\n",
    "    \n",
    "    ax.scatter(all_pt[:, 0], all_pt[:, 1], all_pt[:, 2], color=color)\n",
    "\n",
    "\n",
    "def get_full_bbox(vertices):\n",
    "    \n",
    "    arr1 = vertices.min(0)\n",
    "    \n",
    "    arr2 = vertices.max(0)\n",
    "    \n",
    "    arr = np.stack([arr1, arr2], 0)\n",
    "    \n",
    "    pts = [(0, 0, 0), (0, 0, 1), (0, 1, 1), (0, 1, 0) , (1, 0, 0), (1, 0, 1), (1, 1, 1), (1, 1, 0)]\n",
    "         \n",
    "    all_edges = [(0, 1), (1, 2), (2, 3), (3, 0),  (4, 5), (5, 6), (6, 7), (7, 4), (0, 4), (1, 5), (2, 6), (3, 7)]\n",
    "    \n",
    "    all_faces = [(0, 1, 2, 3), (4, 5, 6, 7), (2, 3, 6, 7), (1, 0, 4, 5), (1, 2, 6, 5), \\\n",
    "                (0, 4, 7, 3)]    \n",
    "    \n",
    "    index = np.arange(3)\n",
    "    \n",
    "    all_pts = []\n",
    "    for pt in pts:\n",
    "        p1 = arr[pt, index]\n",
    "        all_pts.append(p1)\n",
    "    \n",
    "    all_pts = np.stack(all_pts, 0)\n",
    "    \n",
    "    return all_pts, all_edges, all_faces   \n",
    "\n",
    "def scatter_pts(pts):\n",
    "    \n",
    "    fig = plt.figure()    \n",
    "    ax = fig.add_subplot(111, projection='3d')\n",
    "    ax.set_xlim(-2, 2)\n",
    "    ax.set_ylim(-2, 2)\n",
    "    ax.set_zlim(-2, 2)\n",
    "    ax.view_init(elev=100., azim=-90)\n",
    "    ax.scatter(pts[:, 0], pts[:, 1], pts[:, 2])\n",
    "    return\n",
    "\n",
    "import torch\n",
    "\n",
    "from torch import nn\n",
    "from torch import Tensor\n",
    "\n",
    "\n",
    "class GeodesicLoss(nn.Module):\n",
    "    r\"\"\"Creates a criterion that measures the distance between rotation matrices, which is\n",
    "    useful for pose estimation problems.\n",
    "    The distance ranges from 0 to :math:`pi`.\n",
    "    See: http://www.boris-belousov.net/2016/12/01/quat-dist/#using-rotation-matrices and:\n",
    "    \"Metrics for 3D Rotations: Comparison and Analysis\" (https://link.springer.com/article/10.1007/s10851-009-0161-2).\n",
    "    Both `input` and `target` consist of rotation matrices, i.e., they have to be Tensors\n",
    "    of size :math:`(minibatch, 3, 3)`.\n",
    "    The loss can be described as:\n",
    "    .. math::\n",
    "        \\text{loss}(R_{S}, R_{T}) = \\arccos\\left(\\frac{\\text{tr} (R_{S} R_{T}^{T}) - 1}{2}\\right)\n",
    "    Args:\n",
    "        eps (float, optional): term to improve numerical stability (default: 1e-7). See:\n",
    "            https://github.com/pytorch/pytorch/issues/8069.\n",
    "        reduction (string, optional): Specifies the reduction to apply to the output:\n",
    "            ``'none'`` | ``'mean'`` | ``'sum'``. ``'none'``: no reduction will\n",
    "            be applied, ``'mean'``: the weighted mean of the output is taken,\n",
    "            ``'sum'``: the output will be summed. Note: :attr:`size_average`\n",
    "            and :attr:`reduce` are in the process of being deprecated, and in\n",
    "            the meantime, specifying either of those two args will override\n",
    "            :attr:`reduction`. Default: ``'mean'``\n",
    "    Shape:\n",
    "        - Input: :math:`(N, 3, 3)`.\n",
    "        - Target: :math:`(N, 3, 3)`.\n",
    "        - Output: scalar.\n",
    "          If :attr:`reduction` is ``'none'``, then :math:`(N)`.\n",
    "    \"\"\"\n",
    "\n",
    "    def __init__(self, eps: float = 1e-7, reduction: str = \"mean\") -> None:\n",
    "        super().__init__()\n",
    "        self.eps = eps\n",
    "        self.reduction = reduction\n",
    "\n",
    "    def forward(self, input: Tensor, target: Tensor) -> Tensor:\n",
    "        R_diffs = input @ target.permute(0, 2, 1)\n",
    "        # See: https://github.com/pytorch/pytorch/issues/7500#issuecomment-502122839.\n",
    "        traces = R_diffs.diagonal(dim1=-2, dim2=-1).sum(-1)\n",
    "        dists = torch.acos(torch.clamp((traces - 1) / 2, -1 + self.eps, 1 - self.eps))\n",
    "        if self.reduction == \"none\":\n",
    "            return dists\n",
    "        elif self.reduction == \"mean\":\n",
    "            return dists.mean()\n",
    "        elif self.reduction == \"sum\":\n",
    "            return dists.sum()\n",
    "\n",
    "from sympy import *\n",
    "def asCartesian(rthetaphi):\n",
    "    #takes list rthetaphi (single coord)\n",
    "    r       = rthetaphi[0]\n",
    "    theta   = rthetaphi[1]* pi/180 # to radian\n",
    "    phi     = rthetaphi[2]* pi/180\n",
    "    x = r * sin( theta ) * cos( phi )\n",
    "    y = r * sin( theta ) * sin( phi )\n",
    "    z = r * cos( theta )\n",
    "    return [x,y,z]\n",
    "\n",
    "def asSpherical(xyz):\n",
    "    #takes list xyz (single coord)\n",
    "    x       = xyz[0]\n",
    "    y       = xyz[1]\n",
    "    z       = xyz[2]\n",
    "    r       =  sqrt(x*x + y*y + z*z)\n",
    "    theta   =  acos(z/r)*180/ pi #to degrees\n",
    "    phi     =  atan2(y,x)*180/ pi\n",
    "    return [r,theta,phi]\n",
    "\n",
    "from scipy.spatial.transform import Rotation as R\n",
    "import transforms3d.euler as eul\n",
    "\n",
    "\n",
    "def norm(vector):\n",
    "    return vector/np.sqrt(np.sum(vector**2) + 1e-8)\n",
    "    \n",
    "def get_rotation(pts):\n",
    "    \n",
    "    x_axis = norm(pts[4] - pts[0])\n",
    "    y_axis = norm(pts[2] - pts[1])\n",
    "    z_axis = norm(pts[1] - pts[0])\n",
    "    \n",
    "    rotation_matrix = np.stack([x_axis, y_axis, z_axis], 0)\n",
    "    \n",
    "    euler_angles = pytorch3d.transforms.matrix_to_euler_angles(torch.tensor(rotation_matrix), 'XYZ')\n",
    "    \n",
    "#     eul.mat2euler(rotation_matrix, axes='sxyz')\n",
    "    \n",
    "    mat = pytorch3d.transforms.euler_angles_to_matrix(euler_angles, 'XYZ').numpy()\n",
    "    \n",
    "    \n",
    "    \n",
    "#     mat = eul.euler2mat(euler_angles[0], euler_angles[1], euler_angles[2], axes='sxyz')\n",
    "\n",
    "    assert abs(np.sum(np.matmul(rotation_matrix, rotation_matrix.T)) - 3) < 1e-3\n",
    "\n",
    "#     print(\"diff\", np.mean((mat - rotation_matrix)**2))\n",
    "    \n",
    "    return euler_angles.numpy()\n",
    "\n",
    "def decode(centroid, euler_angles, size):\n",
    "    \n",
    "    mat = pytorch3d.transforms.euler_angles_to_matrix(torch.tensor(euler_angles), 'XYZ').numpy()\n",
    "    \n",
    "    pts = [(-1, -1, -1), (-1, -1, 1), (-1, 1, 1), (-1, 1, -1), (1, -1, -1), (1, -1, 1), (1, 1, 1), (1, 1, -1)]\n",
    "\n",
    "    all_edges = [(0, 1), (1, 2), (2, 3), (3, 0),  (4, 5), (5, 6), (6, 7), (7, 4), (0, 4), (1, 5), (2, 6), (3, 7)]\n",
    "\n",
    "    all_faces = [(0, 1, 2, 3), (4, 5, 6, 7), (2, 3, 6, 7), (1, 0, 4, 5), (1, 2, 6, 5), \\\n",
    "                (0, 4, 7, 3)]    \n",
    "\n",
    "    all_pts = []\n",
    "    for pt in pts:\n",
    "        p1 = centroid + np.matmul(mat.T, size*pt)\n",
    "        all_pts.append(p1)\n",
    "\n",
    "    all_pts = np.stack(all_pts, 0)\n",
    "\n",
    "    return all_pts, all_edges, all_faces \n",
    "        \n",
    "\n",
    "\n",
    "def get_bbox_encoding_seq(f, subsample, viz=False):\n",
    "    \n",
    "    m_names = np.array(f['static']['model_names'])\n",
    "    occluders = np.array(f['static']['occluders'])\n",
    "    distractors = np.array(f['static']['distractors'])\n",
    "    \n",
    "    print(\"m_names\", m_names, \"occluders\", occluders, \"distractors\", distractors)\n",
    "    \n",
    "    reject = []\n",
    "    for name in m_names:\n",
    "        if (name in occluders) or (name in distractors):\n",
    "            reject.append(True)\n",
    "        else:\n",
    "            reject.append(False)\n",
    "            \n",
    "#     print(reject)\n",
    "#     reject = (m_names == occluders) | (m_names == distractors)\n",
    "    \n",
    "    object_ids = np.array(f['static']['object_ids'])\n",
    "    \n",
    "    o_id = np.arange(len(object_ids))\n",
    "\n",
    "    colors = [[0, 1, 0], [1, 0, 0]]\n",
    "    \n",
    "    if len(object_ids) > 2:\n",
    "        colors += list(getDistinctColors(len(object_ids)-2))\n",
    "\n",
    "    #NOTE THE FIRST OBJECT IS ALWAYS THE PATIENT\n",
    "    frame_no = 0\n",
    "\n",
    "    # %matplotlib notebook\n",
    "    # %matplotlib notebook\n",
    "\n",
    "    # %matplotlib inline\n",
    "\n",
    "    all_imgs = []\n",
    "    \n",
    "    all_encodings = []\n",
    "\n",
    "    for frame_no in range(0, len(f['frames']), subsample):\n",
    "\n",
    "        frame = str(frame_no).zfill(4)\n",
    "        \n",
    "        if viz:\n",
    "\n",
    "            fig = plt.figure(figsize=[10, 10])\n",
    "            ax = get_ax(fig)\n",
    "        \n",
    "        all_obj_pts = []\n",
    "        \n",
    "        for obj_id in o_id:\n",
    "\n",
    "#             obj_id = obj_id-1    \n",
    "\n",
    "#             print(obj_id)\n",
    "\n",
    "            if not reject[obj_id]:\n",
    "        \n",
    "#                 print(object_ids)\n",
    "            \n",
    "                ob = object_ids[obj_id] - 1\n",
    "                \n",
    "#                 print(ob)\n",
    "                \n",
    "                vertices_orig, faces_orig = get_vertices_scaled(f, obj_id, ob)\n",
    "            \n",
    "                size = np.max(vertices_orig, 0) - np.min(vertices_orig, 0)\n",
    "\n",
    "                size /= 2\n",
    "                \n",
    "                \n",
    "#                 ob = obj_id\n",
    "    \n",
    "#                 if obj_id == 1:\n",
    "#                     ob = 2\n",
    "#                 if obj_id == 2:\n",
    "#                     ob = 1\n",
    "\n",
    "                rotations = np.array(f['frames'][frame]['objects']['rotations'][ob])\n",
    "                trans = np.array(f['frames'][frame]['objects']['positions'][ob])\n",
    "\n",
    "                all_pts, all_edges, all_faces = get_full_bbox(vertices_orig)\n",
    "                \n",
    "                frame_pts = get_transformed_pts(all_pts, rotations, trans)\n",
    "                \n",
    "                all_frame_pts = get_transformed_pts(vertices_orig, rotations, trans)\n",
    "\n",
    "                centroid = np.mean(frame_pts, 0)\n",
    "\n",
    "                euler_angles = get_rotation(frame_pts)\n",
    "\n",
    "                encoding = [centroid, euler_angles, size]\n",
    "                \n",
    "                all_obj_pts.append(np.array(np.concatenate(encoding)))\n",
    "\n",
    "                all_pts_, all_edges_, all_faces_ = decode(centroid, euler_angles, size)\n",
    "\n",
    "    #             print(\"err\", np.mean((all_pts_ - frame_pts)**2))\n",
    "                if viz: \n",
    "                    draw3DRectangleBox(ax, all_edges_, all_pts_, all_frame_pts, colors[obj_id])\n",
    "\n",
    "    #             break\n",
    "#             if obj_id >= 2:\n",
    "#                 break\n",
    "\n",
    "#         break\n",
    "        all_obj_pts = np.stack(all_obj_pts, 0)\n",
    "    \n",
    "        all_encodings.append(all_obj_pts)\n",
    "        \n",
    "        if viz:\n",
    "            fig.savefig('temp.png')\n",
    "\n",
    "            plt.close(fig)\n",
    "\n",
    "            img = plt.imread('temp.png')\n",
    "\n",
    "            all_imgs.append(img)\n",
    "    \n",
    "    all_encodings = np.stack(all_encodings, 0)\n",
    "    \n",
    "    if viz: \n",
    "        return all_encodings, all_imgs\n",
    "    \n",
    "    return all_encodings"
   ]
  },
  {
   "cell_type": "code",
   "execution_count": 271,
   "metadata": {},
   "outputs": [
    {
     "name": "stdout",
     "output_type": "stream",
     "text": [
      "m_names [b'cube' b'cube' b'ramp_with_platform_30' b'coffee_005_13' b'07_01_001'] occluders [b'07_01_001'] distractors [b'coffee_005_13']\n",
      "3.5038914680480957\n"
     ]
    }
   ],
   "source": [
    "import time \n",
    "t = time.time()\n",
    "all_encodings = get_bbox_encoding_seq(f, 6)\n",
    "print(time.time() - t)"
   ]
  },
  {
   "cell_type": "code",
   "execution_count": 272,
   "metadata": {},
   "outputs": [
    {
     "name": "stdout",
     "output_type": "stream",
     "text": [
      "m_names [b'cube' b'cube' b'ramp_with_platform_30' b'coffee_005_13' b'07_01_001'] occluders [b'07_01_001'] distractors [b'coffee_005_13']\n",
      "77.70433640480042\n"
     ]
    }
   ],
   "source": [
    "%matplotlib inline\n",
    "import time \n",
    "t = time.time()\n",
    "all_encodings, all_imgs = get_bbox_encoding_seq(f, 1, True)\n",
    "print(time.time() - t)"
   ]
  },
  {
   "cell_type": "code",
   "execution_count": 195,
   "metadata": {
    "scrolled": true
   },
   "outputs": [
    {
     "data": {
      "text/plain": [
       "<KeysViewHDF5 ['bounciness', 'color', 'distractors', 'dynamic_friction', 'git_commit', 'initial_position', 'initial_rotation', 'mass', 'mesh', 'model_names', 'object_ids', 'object_segmentation_colors', 'occluders', 'probe_mass', 'push_force', 'push_position', 'push_time', 'ramp_id', 'randomize', 'room', 'scale', 'scale_x', 'scale_y', 'scale_z', 'seed', 'static_friction', 'stimulus_name', 'target_id', 'target_rotation', 'target_type', 'trial_num', 'trial_seed', 'zone_id']>"
      ]
     },
     "execution_count": 195,
     "metadata": {},
     "output_type": "execute_result"
    }
   ],
   "source": [
    "f['static'].keys()"
   ]
  },
  {
   "cell_type": "code",
   "execution_count": 196,
   "metadata": {},
   "outputs": [
    {
     "data": {
      "text/plain": [
       "array([1, 3, 2, 4, 5], dtype=int32)"
      ]
     },
     "execution_count": 196,
     "metadata": {},
     "output_type": "execute_result"
    }
   ],
   "source": [
    "np.array(f['static']['object_ids'])"
   ]
  },
  {
   "cell_type": "code",
   "execution_count": 273,
   "metadata": {},
   "outputs": [],
   "source": [
    "import subprocess\n",
    "import cv2\n",
    "def write_video(file_path, frames, fps):\n",
    "    \"\"\"\n",
    "    Writes frames to an mp4 video file\n",
    "    :param file_path: Path to output video, must end with .mp4\n",
    "    :param frames: List of PIL.Image objects\n",
    "    :param fps: Desired frame rate\n",
    "    \"\"\"\n",
    "\n",
    "    h, w = frames[0].shape[:2]\n",
    "    fourcc = cv2.cv2.VideoWriter_fourcc(*\"MJPG\")# cv2.VideoWriter_fourcc('m', 'p', '4', 'v')\n",
    "    writer = cv2.VideoWriter(file_path, fourcc, fps, (w, h))\n",
    "\n",
    "    for frame in frames:\n",
    "        writer.write((frame[:, :, [2,1,0]]*255).astype('uint8'))\n",
    "\n",
    "    writer.release() "
   ]
  },
  {
   "cell_type": "code",
   "execution_count": 274,
   "metadata": {},
   "outputs": [],
   "source": [
    "write_video(name + '_dec.avi', all_imgs, 30)"
   ]
  },
  {
   "cell_type": "code",
   "execution_count": 199,
   "metadata": {},
   "outputs": [],
   "source": [
    "#Get an image from a raw img tensor taken from a tdw saved video\n",
    "def get_image(raw_img):\n",
    "    '''\n",
    "    raw_img: binary image to be read by PIL\n",
    "    returns: HxWx3 image\n",
    "    '''\n",
    "    img = Image.open(io.BytesIO(raw_img))\n",
    "    \n",
    "    return np.array(img)\n"
   ]
  },
  {
   "cell_type": "code",
   "execution_count": 179,
   "metadata": {},
   "outputs": [],
   "source": [
    "from PIL import Image\n",
    "import io\n",
    "\n",
    "imgs = []\n",
    "for fr in f['frames'].keys():\n",
    "    img = get_image(np.array(f['frames'][fr]['images']['_img']))\n",
    "    imgs.append(img)"
   ]
  },
  {
   "cell_type": "code",
   "execution_count": 180,
   "metadata": {},
   "outputs": [],
   "source": [
    "write_video(name + '_dec_rgb.avi', imgs, 30)"
   ]
  },
  {
   "cell_type": "code",
   "execution_count": 141,
   "metadata": {},
   "outputs": [
    {
     "data": {
      "text/plain": [
       "'pilot_it2_rollingSliding_simple_ledge_box_1_dis_1_occ_0127'"
      ]
     },
     "execution_count": 141,
     "metadata": {},
     "output_type": "execute_result"
    }
   ],
   "source": [
    "name"
   ]
  },
  {
   "cell_type": "code",
   "execution_count": 66,
   "metadata": {},
   "outputs": [
    {
     "data": {
      "text/plain": [
       "<HDF5 dataset \"_img\": shape (92920,), type \"|u1\">"
      ]
     },
     "execution_count": 66,
     "metadata": {},
     "output_type": "execute_result"
    }
   ],
   "source": [
    "f['frames']['0000']['images']['_img']"
   ]
  },
  {
   "cell_type": "code",
   "execution_count": 98,
   "metadata": {},
   "outputs": [
    {
     "data": {
      "text/plain": [
       "<matplotlib.image.AxesImage at 0x7f8d22711e50>"
      ]
     },
     "execution_count": 98,
     "metadata": {},
     "output_type": "execute_result"
    },
    {
     "data": {
      "image/png": "[encoded data removed]",
      "text/plain": [
       "<Figure size 432x288 with 1 Axes>"
      ]
     },
     "metadata": {
      "needs_background": "light"
     },
     "output_type": "display_data"
    }
   ],
   "source": [
    "plt.imshow(all_imgs[3])"
   ]
  },
  {
   "cell_type": "markdown",
   "metadata": {},
   "source": [
    "**what do the rot and trans mean??**"
   ]
  },
  {
   "cell_type": "code",
   "execution_count": null,
   "metadata": {},
   "outputs": [],
   "source": [
    "vertices_orig, faces_orig = get_vertices_scaled(1)\n",
    "\n",
    "np.max(vertices_orig, 0) - np.min(vertices_orig, 0)\n",
    "\n",
    "trans = np.array(f['frames']['0150']['objects']['positions'][1])\n",
    "\n",
    "rotations = np.array(f['frames']['0150']['objects']['rotations'][1])\n",
    "\n",
    "rotations, trans\n",
    "\n",
    "d = np.sqrt(np.sum(rotations[:3]**2))\n",
    "rotations[:3]/d\n",
    "\n",
    "d\n",
    "\n",
    "2*np.arctan2(d, rotations[3])*180/3.14385"
   ]
  },
  {
   "cell_type": "code",
   "execution_count": 275,
   "metadata": {},
   "outputs": [
    {
     "name": "stdout",
     "output_type": "stream",
     "text": [
      "\u001b[0m\u001b[01;34mCollide\u001b[0m/         \u001b[01;34mDominoes\u001b[0m/        \u001b[01;34mDrop\u001b[0m/        \u001b[01;34mRoll\u001b[0m/\r\n",
      "\u001b[01;32mCollide.tar.gz\u001b[0m*  \u001b[01;31mDominoes.tar.gz\u001b[0m  \u001b[01;31mDrop.tar.gz\u001b[0m  \u001b[01;31mRoll.tar.gz\u001b[0m\r\n",
      "\u001b[01;34mContain\u001b[0m/         \u001b[01;34mDrape\u001b[0m/           \u001b[01;34mLink\u001b[0m/        \u001b[01;34mSupport\u001b[0m/\r\n",
      "\u001b[01;32mContain.tar.gz\u001b[0m*  \u001b[01;31mDrape.tar.gz\u001b[0m     \u001b[01;31mLink.tar.gz\u001b[0m  \u001b[01;31mSupport.tar.gz\u001b[0m\r\n"
     ]
    }
   ],
   "source": [
    "ls '/mnt/fs3/rmvenkat/data/physion_train_data/dynamics_training/'"
   ]
  },
  {
   "cell_type": "code",
   "execution_count": null,
   "metadata": {},
   "outputs": [],
   "source": [
    "Collide Dominoes Drop Contain Drape Link Support"
   ]
  },
  {
   "cell_type": "code",
   "execution_count": 2,
   "metadata": {},
   "outputs": [
    {
     "name": "stdout",
     "output_type": "stream",
     "text": [
      "0\n"
     ]
    }
   ],
   "source": [
    "import torch\n",
    "print(torch.cuda.current_device())"
   ]
  },
  {
   "cell_type": "code",
   "execution_count": 3,
   "metadata": {},
   "outputs": [
    {
     "data": {
      "text/plain": [
       "'10.2'"
      ]
     },
     "execution_count": 3,
     "metadata": {},
     "output_type": "execute_result"
    }
   ],
   "source": [
    "torch.version.cuda\n"
   ]
  },
  {
   "cell_type": "code",
   "execution_count": null,
   "metadata": {},
   "outputs": [],
   "source": []
  }
 ],
 "metadata": {
  "kernelspec": {
   "display_name": "testpy3_home",
   "language": "python",
   "name": "testpy3_home"
  },
  "language_info": {
   "codemirror_mode": {
    "name": "ipython",
    "version": 3
   },
   "file_extension": ".py",
   "mimetype": "text/x-python",
   "name": "python",
   "nbconvert_exporter": "python",
   "pygments_lexer": "ipython3",
   "version": "3.7.5"
  }
 },
 "nbformat": 4,
 "nbformat_minor": 4
}
