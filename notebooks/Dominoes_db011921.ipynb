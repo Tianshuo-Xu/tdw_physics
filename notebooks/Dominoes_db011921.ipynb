{
 "cells": [
  {
   "cell_type": "code",
   "execution_count": 3,
   "metadata": {},
   "outputs": [],
   "source": [
    "import numpy as np\n",
    "import h5py\n",
    "import matplotlib.pyplot as plt\n",
    "import matplotlib.animation as animation\n",
    "import os, sys, glob\n",
    "from PIL import Image\n",
    "import io\n",
    "import pickle\n",
    "from collections import OrderedDict"
   ]
  },
  {
   "cell_type": "code",
   "execution_count": 4,
   "metadata": {},
   "outputs": [],
   "source": [
    "dirstem = '/Users/tianshuo/tdw_physics/controllers_physion/dataset'\n",
    "# trials = sorted(glob.glob(dirstem), key=lambda t: int(t.split('_')[-1]))\n",
    "# trials = {int(trial.split('_')[-1]): trial for trial in trials}\n",
    "trials = dirstem"
   ]
  },
  {
   "cell_type": "code",
   "execution_count": 5,
   "metadata": {},
   "outputs": [
    {
     "name": "stdout",
     "output_type": "stream",
     "text": [
      "0000.hdf5\n",
      "top keys ['frames', 'static']\n",
      "num frames: 151\n",
      "frame data keys ['camera_matrices', 'collisions', 'env_collisions', 'images', 'labels', 'objects']\n",
      "image keys ['_depth', '_id', '_img']\n"
     ]
    },
    {
     "data": {
      "image/jpeg": "[encoded data removed]",
      "image/png": "[encoded data removed]",
      "text/plain": [
       "<PIL.PngImagePlugin.PngImageFile image mode=RGB size=256x256>"
      ]
     },
     "execution_count": 5,
     "metadata": {},
     "output_type": "execute_result"
    }
   ],
   "source": [
    "TDW_DIR = trials\n",
    "TNUM = 0\n",
    "FILE = \"%04d.hdf5\" % TNUM\n",
    "print(FILE)\n",
    "view_frame = 0\n",
    "f = h5py.File(os.path.join(TDW_DIR, FILE))\n",
    "\n",
    "# print the data structure\n",
    "print(\"top keys\", [k for k in f.keys()])\n",
    "frames = f['frames']\n",
    "n_frames = len([k for k in frames.keys()])\n",
    "print(\"num frames: {}\".format(n_frames))\n",
    "view_frame = np.minimum(view_frame, n_frames - 1)\n",
    "frame = frames[\"%04d\" % (view_frame)]\n",
    "print(\"frame data keys\", [k for k in frame.keys()])\n",
    "img = frame['images']\n",
    "print(\"image keys\", [k for k in img.keys()])\n",
    "_img = Image.open(io.BytesIO(img[\"_id\"][:]))\n",
    "_img"
   ]
  },
  {
   "cell_type": "code",
   "execution_count": null,
   "metadata": {},
   "outputs": [
    {
     "ename": "UnidentifiedImageError",
     "evalue": "cannot identify image file <_io.BytesIO object at 0x1303dcea0>",
     "output_type": "error",
     "traceback": [
      "\u001b[0;31m---------------------------------------------------------------------------\u001b[0m",
      "\u001b[0;31mUnidentifiedImageError\u001b[0m                    Traceback (most recent call last)",
      "Cell \u001b[0;32mIn[13], line 12\u001b[0m\n\u001b[1;32m      9\u001b[0m idx \u001b[38;5;241m=\u001b[39m \u001b[38;5;241m0\u001b[39m\n\u001b[1;32m     11\u001b[0m fig, axes \u001b[38;5;241m=\u001b[39m plt\u001b[38;5;241m.\u001b[39msubplots(figsize\u001b[38;5;241m=\u001b[39m(\u001b[38;5;241m4\u001b[39m,\u001b[38;5;241m4\u001b[39m))\n\u001b[0;32m---> 12\u001b[0m fr0, n_frames \u001b[38;5;241m=\u001b[39m \u001b[43mget_frame\u001b[49m\u001b[43m(\u001b[49m\u001b[43mf\u001b[49m\u001b[43m,\u001b[49m\u001b[43midx\u001b[49m\u001b[43m)\u001b[49m\n\u001b[1;32m     13\u001b[0m im \u001b[38;5;241m=\u001b[39m plt\u001b[38;5;241m.\u001b[39mimshow(fr0, origin\u001b[38;5;241m=\u001b[39m\u001b[38;5;124m'\u001b[39m\u001b[38;5;124mupper\u001b[39m\u001b[38;5;124m'\u001b[39m)\n\u001b[1;32m     15\u001b[0m \u001b[38;5;28;01mdef\u001b[39;00m \u001b[38;5;21manimate\u001b[39m(\u001b[38;5;241m*\u001b[39margs):\n",
      "Cell \u001b[0;32mIn[13], line 7\u001b[0m, in \u001b[0;36mget_frame\u001b[0;34m(f, idx, imkey, N)\u001b[0m\n\u001b[1;32m      5\u001b[0m fkeys \u001b[38;5;241m=\u001b[39m \u001b[38;5;28msorted\u001b[39m([k \u001b[38;5;28;01mfor\u001b[39;00m k \u001b[38;5;129;01min\u001b[39;00m f[\u001b[38;5;124m'\u001b[39m\u001b[38;5;124mframes\u001b[39m\u001b[38;5;124m'\u001b[39m]\u001b[38;5;241m.\u001b[39mkeys()])\n\u001b[1;32m      6\u001b[0m img \u001b[38;5;241m=\u001b[39m f[\u001b[38;5;124m'\u001b[39m\u001b[38;5;124mframes\u001b[39m\u001b[38;5;124m'\u001b[39m][fkeys[idx \u001b[38;5;241m%\u001b[39m N]][\u001b[38;5;124m'\u001b[39m\u001b[38;5;124mimages\u001b[39m\u001b[38;5;124m'\u001b[39m]\n\u001b[0;32m----> 7\u001b[0m \u001b[38;5;28;01mreturn\u001b[39;00m np\u001b[38;5;241m.\u001b[39marray(\u001b[43mImage\u001b[49m\u001b[38;5;241;43m.\u001b[39;49m\u001b[43mopen\u001b[49m\u001b[43m(\u001b[49m\u001b[43mio\u001b[49m\u001b[38;5;241;43m.\u001b[39;49m\u001b[43mBytesIO\u001b[49m\u001b[43m(\u001b[49m\u001b[43mimg\u001b[49m\u001b[43m[\u001b[49m\u001b[43mimkey\u001b[49m\u001b[43m]\u001b[49m\u001b[43m[\u001b[49m\u001b[43m:\u001b[49m\u001b[43m]\u001b[49m\u001b[43m)\u001b[49m\u001b[43m)\u001b[49m), \u001b[38;5;28mlen\u001b[39m(fkeys)\n",
      "File \u001b[0;32m~/miniconda3/lib/python3.11/site-packages/PIL/Image.py:3305\u001b[0m, in \u001b[0;36mopen\u001b[0;34m(fp, mode, formats)\u001b[0m\n\u001b[1;32m   3303\u001b[0m     warnings\u001b[38;5;241m.\u001b[39mwarn(message)\n\u001b[1;32m   3304\u001b[0m msg \u001b[38;5;241m=\u001b[39m \u001b[38;5;124m\"\u001b[39m\u001b[38;5;124mcannot identify image file \u001b[39m\u001b[38;5;132;01m%r\u001b[39;00m\u001b[38;5;124m\"\u001b[39m \u001b[38;5;241m%\u001b[39m (filename \u001b[38;5;28;01mif\u001b[39;00m filename \u001b[38;5;28;01melse\u001b[39;00m fp)\n\u001b[0;32m-> 3305\u001b[0m \u001b[38;5;28;01mraise\u001b[39;00m UnidentifiedImageError(msg)\n",
      "\u001b[0;31mUnidentifiedImageError\u001b[0m: cannot identify image file <_io.BytesIO object at 0x1303dcea0>"
     ]
    },
    {
     "data": {
      "image/png": "[encoded data removed]",
      "text/plain": [
       "<Figure size 400x400 with 1 Axes>"
      ]
     },
     "metadata": {},
     "output_type": "display_data"
    }
   ],
   "source": [
    "# %matplotlib nbagg\n",
    "SAVE = True\n",
    "\n",
    "def get_frame(f, idx, imkey='_img', N=n_frames):\n",
    "    fkeys = sorted([k for k in f['frames'].keys()])\n",
    "    img = f['frames'][fkeys[idx % N]]['images']\n",
    "    return np.array(Image.open(io.BytesIO(img[imkey][:]))), len(fkeys)\n",
    "\n",
    "idx = 0\n",
    "\n",
    "fig, axes = plt.subplots(figsize=(4,4))\n",
    "fr0, n_frames = get_frame(f,idx)\n",
    "im = plt.imshow(fr0, origin='upper')\n",
    "\n",
    "def animate(*args):\n",
    "    global idx\n",
    "    \n",
    "    fr, N = get_frame(f, idx, '_img')\n",
    "    im.set_array(fr)\n",
    "    idx += 1\n",
    "    idx %= N\n",
    "    \n",
    "    return im,\n",
    "\n",
    "def savegif(ani, directory=TDW_DIR, file=FILE):\n",
    "    import os\n",
    "    f = os.path.join(\"./\", file.split('.')[0]) + \".gif\"\n",
    "    writergif = animation.PillowWriter(fps=48)\n",
    "    ani.save(f, writer=writergif)\n",
    "\n",
    "ani = animation.FuncAnimation(fig, animate, interval=10, save_count=n_frames)\n",
    "plt.xticks([])\n",
    "plt.yticks([])\n",
    "plt.show()\n",
    "\n",
    "if SAVE:\n",
    "    savegif(ani, TDW_DIR, FILE)"
   ]
  },
  {
   "cell_type": "markdown",
   "metadata": {},
   "source": [
    "# Check Metadata"
   ]
  },
  {
   "cell_type": "code",
   "execution_count": 11,
   "metadata": {},
   "outputs": [
    {
     "name": "stdout",
     "output_type": "stream",
     "text": [
      "['bounciness', 'color', 'distractors', 'dynamic_friction', 'git_commit', 'initial_position', 'initial_rotation', 'mass', 'middle_objects', 'middle_type', 'model_names', 'object_ids', 'object_segmentation_colors', 'occluders', 'probe_id', 'probe_mass', 'probe_type', 'push_force', 'push_position', 'push_time', 'randomize', 'remove_middle', 'room', 'scale', 'scale_x', 'scale_y', 'scale_z', 'seed', 'static_friction', 'stimulus_name', 'target_id', 'target_rotation', 'target_type', 'trial_num', 'trial_seed', 'zone_id']\n",
      "[1, 2, 3, 4, 5, 6]\n"
     ]
    }
   ],
   "source": [
    "skeys = [k for k in f['static'].keys()]\n",
    "print(skeys)\n",
    "\n",
    "obj_ids = [oid for oid in f['static']['object_ids']]\n",
    "print(obj_ids)"
   ]
  },
  {
   "cell_type": "code",
   "execution_count": 12,
   "metadata": {},
   "outputs": [
    {
     "name": "stdout",
     "output_type": "stream",
     "text": [
      "[b'cube' b'cube' b'cube' b'cube' b'cube' b'cube']\n"
     ]
    }
   ],
   "source": [
    "key = 'model_names'\n",
    "meta = f['static'][key]\n",
    "# meta\n",
    "print(np.array(meta))"
   ]
  },
  {
   "cell_type": "code",
   "execution_count": 56,
   "metadata": {},
   "outputs": [
    {
     "name": "stdout",
     "output_type": "stream",
     "text": [
      "[[1.         1.         0.        ]\n",
      " [1.         0.         0.        ]\n",
      " [0.31014757 0.72983175 0.89883829]\n",
      " [0.31014757 0.72983175 0.89883829]\n",
      " [0.50468686 0.28183784 0.7558042 ]]\n"
     ]
    }
   ],
   "source": [
    "key = 'color'\n",
    "meta = f['static'][key]\n",
    "# meta\n",
    "print(np.array(meta))"
   ]
  },
  {
   "cell_type": "code",
   "execution_count": 63,
   "metadata": {},
   "outputs": [
    {
     "name": "stdout",
     "output_type": "stream",
     "text": [
      "[[124 128   1]\n",
      " [112  21 193]\n",
      " [ 66 123 180]\n",
      " [ 80   4  29]\n",
      " [115  76 184]]\n"
     ]
    }
   ],
   "source": [
    "key = 'object_segmentation_colors'\n",
    "meta = f['static'][key]\n",
    "# meta\n",
    "print(np.array(meta))"
   ]
  },
  {
   "cell_type": "code",
   "execution_count": 69,
   "metadata": {},
   "outputs": [
    {
     "data": {
      "text/plain": [
       "<matplotlib.image.AxesImage at 0x1224ff190>"
      ]
     },
     "execution_count": 69,
     "metadata": {},
     "output_type": "execute_result"
    },
    {
     "data": {
      "image/png": "[encoded data removed]",
      "text/plain": [
       "<Figure size 432x288 with 1 Axes>"
      ]
     },
     "metadata": {
      "needs_background": "light"
     },
     "output_type": "display_data"
    }
   ],
   "source": [
    "mask = np.array(_img) == meta[3]\n",
    "plt.imshow(mask.max(axis=-1))"
   ]
  },
  {
   "cell_type": "markdown",
   "metadata": {},
   "source": [
    "# Frame Data"
   ]
  },
  {
   "cell_type": "code",
   "execution_count": 272,
   "metadata": {},
   "outputs": [
    {
     "name": "stdout",
     "output_type": "stream",
     "text": [
      "dynamic keys\n",
      "['camera_matrices', 'collisions', 'env_collisions', 'images', 'labels', 'objects']\n",
      "collision keys\n",
      "['contacts', 'object_ids', 'relative_velocities', 'states']\n"
     ]
    }
   ],
   "source": [
    "fs = [k for k in f['frames'].keys()]\n",
    "print(\"dynamic keys\")\n",
    "print([k for k in f['frames'][fs[0]].keys()])\n",
    "print(\"collision keys\")\n",
    "print([k for k in f['frames'][fs[0]]['collisions'].keys()])\n",
    "\n",
    "def get_collisions(hf, idx, env_collisions=False):\n",
    "    fkeys = [k for k in hf['frames'].keys()]\n",
    "    return hf['frames'][fkeys[idx]]['collisions' if not env_collisions else 'env_collisions']\n",
    "\n",
    "def find_collisions_frames(hf, cdata='contacts', env_collisions=False):\n",
    "    n_frames = len([k for k in hf['frames'].keys()])\n",
    "    collisions = []\n",
    "    for n in range(n_frames):\n",
    "        contacts = get_collisions(hf, n, env_collisions)[cdata]\n",
    "        collisions.append(bool(len(contacts)))\n",
    "    return np.where(collisions)[0]\n",
    "\n",
    "def did_fall(hf, idx=-1):\n",
    "    fkeys = [k for k in hf['frames'].keys()]\n",
    "    n_frames = len(fkeys)\n",
    "    if n_frames > 5 and (idx % n_frames > 5):\n",
    "        return np.array(hf['frames'][fkeys[idx]][\"did_fall\"])\n",
    "    else:\n",
    "        return None"
   ]
  },
  {
   "cell_type": "code",
   "execution_count": 273,
   "metadata": {},
   "outputs": [
    {
     "data": {
      "text/plain": [
       "array([ 10,  11,  12,  13,  14,  15,  16,  17,  18,  19,  20,  21,  22,\n",
       "        23,  24,  25,  26,  27,  28,  29,  30,  31,  32,  33,  34,  35,\n",
       "        36,  37,  38,  39,  40,  41,  42,  43,  44,  45,  46,  47,  48,\n",
       "        49,  50,  51,  52,  53,  54,  55,  56,  57,  58,  59,  60,  61,\n",
       "        62,  63,  64,  65,  66,  67,  68,  69,  70,  71,  72,  73,  74,\n",
       "        75,  76,  77,  78,  79,  80,  81,  82,  83,  84,  85,  86,  87,\n",
       "        88,  89,  90,  91,  92,  93,  94,  95,  96,  97,  98,  99, 100,\n",
       "       101, 102, 103, 104, 105, 106, 107, 108, 109, 110, 111, 112, 113,\n",
       "       114, 115, 116, 117, 118, 119, 120, 121, 122, 123, 124, 125, 126,\n",
       "       127, 128, 129, 130, 131, 132, 133, 134, 135, 136, 137, 138, 139,\n",
       "       140, 141, 142, 143, 144, 145, 146, 147, 148, 149, 150, 151, 152,\n",
       "       153, 154, 155, 156, 157, 158, 159, 160, 161, 162, 163, 164, 165,\n",
       "       166, 167, 168, 169])"
      ]
     },
     "execution_count": 273,
     "metadata": {},
     "output_type": "execute_result"
    }
   ],
   "source": [
    "find_collisions_frames(f, 'contacts', False)"
   ]
  },
  {
   "cell_type": "code",
   "execution_count": 403,
   "metadata": {},
   "outputs": [
    {
     "data": {
      "text/plain": [
       "array([[ 4.76518913e-08, -2.22390552e-12,  4.22937588e-11,\n",
       "         1.00000000e+00],\n",
       "       [ 3.01082501e-08,  1.30342159e-09, -2.09958273e-09,\n",
       "         1.00000000e+00],\n",
       "       [ 1.74940826e-04, -5.40700021e-05, -4.44623567e-02,\n",
       "         9.99011159e-01],\n",
       "       [ 2.41519320e-08,  1.47538409e-01, -5.35223155e-09,\n",
       "         9.89056349e-01],\n",
       "       [ 1.10243485e-08,  1.20318994e-01, -1.39708325e-08,\n",
       "         9.92735326e-01],\n",
       "       [ 2.63911453e-08,  3.43538642e-01,  1.91433536e-09,\n",
       "         9.39138532e-01]], dtype=float32)"
      ]
     },
     "execution_count": 403,
     "metadata": {},
     "output_type": "execute_result"
    }
   ],
   "source": [
    "np.array(f['frames'][fs[0]]['objects']['rotations'])"
   ]
  },
  {
   "cell_type": "code",
   "execution_count": 429,
   "metadata": {},
   "outputs": [
    {
     "name": "stdout",
     "output_type": "stream",
     "text": [
      "frame num 2 of 151\n",
      "has_target False\n",
      "has_zone True\n",
      "trial_complete False\n",
      "trial_end False\n",
      "trial_timeout False\n",
      "(array([  0,   1,   2,   3,   4,   5,   6,   7,   8,   9,  10,  11,  12,\n",
      "        13,  14,  15,  16,  17,  18,  19,  20,  21,  22,  23,  24,  25,\n",
      "        26,  27,  28,  29,  30,  31,  32,  33,  34,  35,  36,  37,  38,\n",
      "        39,  40,  41,  42,  43,  44,  45,  46,  47,  48,  49,  50,  51,\n",
      "        52,  53,  54,  55,  56,  57,  58,  59,  60,  61,  62,  63,  64,\n",
      "        65,  66,  67,  68,  69,  70,  71,  72,  73,  74,  75,  76,  77,\n",
      "        78,  79,  80,  81,  82,  83,  84,  85,  86,  87,  88,  89,  90,\n",
      "        91,  92,  93,  94,  95,  96,  97,  98,  99, 100, 101, 102, 103,\n",
      "       104, 105, 106, 107, 108, 109, 110, 111, 112, 113, 114, 115, 116,\n",
      "       117, 118, 119, 120, 121, 122, 123, 124, 125, 126, 127, 128, 129,\n",
      "       130, 131, 132, 133, 134, 135, 136, 137, 138, 139, 140, 141, 142,\n",
      "       143, 144, 145, 146, 147, 148, 149, 150]),)\n"
     ]
    }
   ],
   "source": [
    "idx = 1\n",
    "fs = list(f['frames'].keys())\n",
    "labels = f['frames'][fs[idx]]['labels']\n",
    "print(\"frame num %d of %d\" % (idx % len(fs) + 1, len(fs)))\n",
    "for k in list(labels.keys()):\n",
    "    print(k, np.array(labels[k]))\n",
    "    \n",
    "tzc = [np.array(f['frames'][fs[i]]['labels']['has_zone']) for i in range(len(fs))]\n",
    "print(np.where(tzc))"
   ]
  },
  {
   "cell_type": "code",
   "execution_count": 298,
   "metadata": {},
   "outputs": [
    {
     "name": "stdout",
     "output_type": "stream",
     "text": [
      "['contacts', 'object_ids']\n"
     ]
    },
    {
     "data": {
      "text/plain": [
       "array([15810431, 13110019,  4366262,   334787,  3909422, 10374811])"
      ]
     },
     "execution_count": 298,
     "metadata": {},
     "output_type": "execute_result"
    }
   ],
   "source": [
    "print(list(get_collisions(f, 90, True).keys()))\n",
    "np.array(get_collisions(f, 0, True)['object_ids'])"
   ]
  },
  {
   "cell_type": "markdown",
   "metadata": {},
   "source": [
    "# Check Labels"
   ]
  },
  {
   "cell_type": "code",
   "execution_count": 358,
   "metadata": {},
   "outputs": [],
   "source": [
    "%reload_ext autoreload\n",
    "%autoreload 2"
   ]
  },
  {
   "cell_type": "code",
   "execution_count": 446,
   "metadata": {},
   "outputs": [
    {
     "data": {
      "text/plain": [
       "0.3333333333333333"
      ]
     },
     "execution_count": 446,
     "metadata": {},
     "output_type": "execute_result"
    }
   ],
   "source": [
    "np.mean([True, False, False])"
   ]
  },
  {
   "cell_type": "code",
   "execution_count": null,
   "metadata": {},
   "outputs": [],
   "source": []
  }
 ],
 "metadata": {
  "kernelspec": {
   "display_name": "base",
   "language": "python",
   "name": "python3"
  },
  "language_info": {
   "codemirror_mode": {
    "name": "ipython",
    "version": 3
   },
   "file_extension": ".py",
   "mimetype": "text/x-python",
   "name": "python",
   "nbconvert_exporter": "python",
   "pygments_lexer": "ipython3",
   "version": "3.11.4"
  }
 },
 "nbformat": 4,
 "nbformat_minor": 2
}
