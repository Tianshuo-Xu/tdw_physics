{
 "cells": [
  {
   "cell_type": "code",
   "execution_count": 5,
   "metadata": {},
   "outputs": [],
   "source": [
    "import h5py\n",
    "import numpy as np\n",
    "from scipy.spatial.transform import Rotation as R\n",
    "import matplotlib.pyplot as plt\n",
    "%matplotlib notebook\n",
    "from mpl_toolkits import mplot3d \n",
    "import trimesh"
   ]
  },
  {
   "cell_type": "code",
   "execution_count": 6,
   "metadata": {},
   "outputs": [
    {
     "ename": "OSError",
     "evalue": "Unable to open file (unable to open file: name = '/Users/rahulmv/Desktop/test_domino_gen/dominoes_one/train/pilot_dominoes_0mid_d3chairs_o1plants_tdwroom/0000.hdf5', errno = 2, error message = 'No such file or directory', flags = 0, o_flags = 0)",
     "output_type": "error",
     "traceback": [
      "\u001b[0;31m---------------------------------------------------------------------------\u001b[0m",
      "\u001b[0;31mOSError\u001b[0m                                   Traceback (most recent call last)",
      "\u001b[0;32m/tmp/ipykernel_5229/2431813440.py\u001b[0m in \u001b[0;36m<module>\u001b[0;34m\u001b[0m\n\u001b[1;32m      1\u001b[0m \u001b[0mfilepath\u001b[0m \u001b[0;34m=\u001b[0m \u001b[0;34m\"/Users/rahulmv/Desktop/test_domino_gen/dominoes_one/train/pilot_dominoes_0mid_d3chairs_o1plants_tdwroom/0000.hdf5\"\u001b[0m\u001b[0;34m\u001b[0m\u001b[0;34m\u001b[0m\u001b[0m\n\u001b[0;32m----> 2\u001b[0;31m \u001b[0mf\u001b[0m \u001b[0;34m=\u001b[0m \u001b[0mh5py\u001b[0m\u001b[0;34m.\u001b[0m\u001b[0mFile\u001b[0m\u001b[0;34m(\u001b[0m\u001b[0mfilepath\u001b[0m\u001b[0;34m)\u001b[0m\u001b[0;34m\u001b[0m\u001b[0;34m\u001b[0m\u001b[0m\n\u001b[0m\u001b[1;32m      3\u001b[0m \u001b[0mname\u001b[0m \u001b[0;34m=\u001b[0m \u001b[0mfilepath\u001b[0m\u001b[0;34m.\u001b[0m\u001b[0msplit\u001b[0m\u001b[0;34m(\u001b[0m\u001b[0;34m'/'\u001b[0m\u001b[0;34m)\u001b[0m\u001b[0;34m[\u001b[0m\u001b[0;34m-\u001b[0m\u001b[0;36m1\u001b[0m\u001b[0;34m]\u001b[0m\u001b[0;34m.\u001b[0m\u001b[0msplit\u001b[0m\u001b[0;34m(\u001b[0m\u001b[0;34m'.'\u001b[0m\u001b[0;34m)\u001b[0m\u001b[0;34m[\u001b[0m\u001b[0;36m0\u001b[0m\u001b[0;34m]\u001b[0m\u001b[0;34m\u001b[0m\u001b[0;34m\u001b[0m\u001b[0m\n",
      "\u001b[0;32m~/testpy3_home/local/lib/python3.7/site-packages/h5py/_hl/files.py\u001b[0m in \u001b[0;36m__init__\u001b[0;34m(self, name, mode, driver, libver, userblock_size, swmr, rdcc_nslots, rdcc_nbytes, rdcc_w0, track_order, fs_strategy, fs_persist, fs_threshold, **kwds)\u001b[0m\n\u001b[1;32m    425\u001b[0m                                fapl, fcpl=make_fcpl(track_order=track_order, fs_strategy=fs_strategy,\n\u001b[1;32m    426\u001b[0m                                fs_persist=fs_persist, fs_threshold=fs_threshold),\n\u001b[0;32m--> 427\u001b[0;31m                                swmr=swmr)\n\u001b[0m\u001b[1;32m    428\u001b[0m \u001b[0;34m\u001b[0m\u001b[0m\n\u001b[1;32m    429\u001b[0m             \u001b[0;32mif\u001b[0m \u001b[0misinstance\u001b[0m\u001b[0;34m(\u001b[0m\u001b[0mlibver\u001b[0m\u001b[0;34m,\u001b[0m \u001b[0mtuple\u001b[0m\u001b[0;34m)\u001b[0m\u001b[0;34m:\u001b[0m\u001b[0;34m\u001b[0m\u001b[0;34m\u001b[0m\u001b[0m\n",
      "\u001b[0;32m~/testpy3_home/local/lib/python3.7/site-packages/h5py/_hl/files.py\u001b[0m in \u001b[0;36mmake_fid\u001b[0;34m(name, mode, userblock_size, fapl, fcpl, swmr)\u001b[0m\n\u001b[1;32m    188\u001b[0m         \u001b[0;32mif\u001b[0m \u001b[0mswmr\u001b[0m \u001b[0;32mand\u001b[0m \u001b[0mswmr_support\u001b[0m\u001b[0;34m:\u001b[0m\u001b[0;34m\u001b[0m\u001b[0;34m\u001b[0m\u001b[0m\n\u001b[1;32m    189\u001b[0m             \u001b[0mflags\u001b[0m \u001b[0;34m|=\u001b[0m \u001b[0mh5f\u001b[0m\u001b[0;34m.\u001b[0m\u001b[0mACC_SWMR_READ\u001b[0m\u001b[0;34m\u001b[0m\u001b[0;34m\u001b[0m\u001b[0m\n\u001b[0;32m--> 190\u001b[0;31m         \u001b[0mfid\u001b[0m \u001b[0;34m=\u001b[0m \u001b[0mh5f\u001b[0m\u001b[0;34m.\u001b[0m\u001b[0mopen\u001b[0m\u001b[0;34m(\u001b[0m\u001b[0mname\u001b[0m\u001b[0;34m,\u001b[0m \u001b[0mflags\u001b[0m\u001b[0;34m,\u001b[0m \u001b[0mfapl\u001b[0m\u001b[0;34m=\u001b[0m\u001b[0mfapl\u001b[0m\u001b[0;34m)\u001b[0m\u001b[0;34m\u001b[0m\u001b[0;34m\u001b[0m\u001b[0m\n\u001b[0m\u001b[1;32m    191\u001b[0m     \u001b[0;32melif\u001b[0m \u001b[0mmode\u001b[0m \u001b[0;34m==\u001b[0m \u001b[0;34m'r+'\u001b[0m\u001b[0;34m:\u001b[0m\u001b[0;34m\u001b[0m\u001b[0;34m\u001b[0m\u001b[0m\n\u001b[1;32m    192\u001b[0m         \u001b[0mfid\u001b[0m \u001b[0;34m=\u001b[0m \u001b[0mh5f\u001b[0m\u001b[0;34m.\u001b[0m\u001b[0mopen\u001b[0m\u001b[0;34m(\u001b[0m\u001b[0mname\u001b[0m\u001b[0;34m,\u001b[0m \u001b[0mh5f\u001b[0m\u001b[0;34m.\u001b[0m\u001b[0mACC_RDWR\u001b[0m\u001b[0;34m,\u001b[0m \u001b[0mfapl\u001b[0m\u001b[0;34m=\u001b[0m\u001b[0mfapl\u001b[0m\u001b[0;34m)\u001b[0m\u001b[0;34m\u001b[0m\u001b[0;34m\u001b[0m\u001b[0m\n",
      "\u001b[0;32mh5py/_objects.pyx\u001b[0m in \u001b[0;36mh5py._objects.with_phil.wrapper\u001b[0;34m()\u001b[0m\n",
      "\u001b[0;32mh5py/_objects.pyx\u001b[0m in \u001b[0;36mh5py._objects.with_phil.wrapper\u001b[0;34m()\u001b[0m\n",
      "\u001b[0;32mh5py/h5f.pyx\u001b[0m in \u001b[0;36mh5py.h5f.open\u001b[0;34m()\u001b[0m\n",
      "\u001b[0;31mOSError\u001b[0m: Unable to open file (unable to open file: name = '/Users/rahulmv/Desktop/test_domino_gen/dominoes_one/train/pilot_dominoes_0mid_d3chairs_o1plants_tdwroom/0000.hdf5', errno = 2, error message = 'No such file or directory', flags = 0, o_flags = 0)"
     ]
    }
   ],
   "source": [
    "filepath = \"/Users/rahulmv/Desktop/test_domino_gen/dominoes_one/train/pilot_dominoes_0mid_d3chairs_o1plants_tdwroom/0000.hdf5\"\n",
    "f = h5py.File(filepath)\n",
    "name = filepath.split('/')[-1].split('.')[0]"
   ]
  },
  {
   "cell_type": "code",
   "execution_count": 92,
   "metadata": {},
   "outputs": [
    {
     "data": {
      "text/plain": [
       "array(30)"
      ]
     },
     "execution_count": 92,
     "metadata": {},
     "output_type": "execute_result"
    }
   ],
   "source": [
    "np.array(f['static']['push_time'])"
   ]
  },
  {
   "cell_type": "code",
   "execution_count": 98,
   "metadata": {},
   "outputs": [
    {
     "data": {
      "text/plain": [
       "<HDF5 dataset \"vertices_0\": shape (96, 3), type \"<f4\">"
      ]
     },
     "execution_count": 98,
     "metadata": {},
     "output_type": "execute_result"
    }
   ],
   "source": [
    "f['static']['mesh']['vertices_0']"
   ]
  },
  {
   "cell_type": "code",
   "execution_count": 118,
   "metadata": {},
   "outputs": [
    {
     "data": {
      "text/plain": [
       "array(True)"
      ]
     },
     "execution_count": 118,
     "metadata": {},
     "output_type": "execute_result"
    }
   ],
   "source": [
    "np.array(f['frames']['0140']['labels']['target_contacting_zone'])"
   ]
  },
  {
   "cell_type": "code",
   "execution_count": 74,
   "metadata": {},
   "outputs": [
    {
     "ename": "KeyError",
     "evalue": "\"Unable to open object (object 'projection_matrix' doesn't exist)\"",
     "output_type": "error",
     "traceback": [
      "\u001b[0;31m---------------------------------------------------------------------------\u001b[0m",
      "\u001b[0;31mKeyError\u001b[0m                                  Traceback (most recent call last)",
      "Input \u001b[0;32mIn [74]\u001b[0m, in \u001b[0;36m<module>\u001b[0;34m\u001b[0m\n\u001b[0;32m----> 1\u001b[0m np\u001b[38;5;241m.\u001b[39marray(\u001b[43mf\u001b[49m\u001b[43m[\u001b[49m\u001b[38;5;124;43m'\u001b[39;49m\u001b[38;5;124;43mframes\u001b[39;49m\u001b[38;5;124;43m'\u001b[39;49m\u001b[43m]\u001b[49m\u001b[43m[\u001b[49m\u001b[38;5;124;43m'\u001b[39;49m\u001b[38;5;124;43m0000\u001b[39;49m\u001b[38;5;124;43m'\u001b[39;49m\u001b[43m]\u001b[49m\u001b[43m[\u001b[49m\u001b[38;5;124;43m'\u001b[39;49m\u001b[38;5;124;43mcamera_matrices\u001b[39;49m\u001b[38;5;124;43m'\u001b[39;49m\u001b[43m]\u001b[49m\u001b[43m[\u001b[49m\u001b[38;5;124;43m'\u001b[39;49m\u001b[38;5;124;43mprojection_matrix\u001b[39;49m\u001b[38;5;124;43m'\u001b[39;49m\u001b[43m]\u001b[49m)\n",
      "File \u001b[0;32mh5py/_objects.pyx:54\u001b[0m, in \u001b[0;36mh5py._objects.with_phil.wrapper\u001b[0;34m()\u001b[0m\n",
      "File \u001b[0;32mh5py/_objects.pyx:55\u001b[0m, in \u001b[0;36mh5py._objects.with_phil.wrapper\u001b[0;34m()\u001b[0m\n",
      "File \u001b[0;32m/usr/local/lib/python3.9/site-packages/h5py/_hl/group.py:305\u001b[0m, in \u001b[0;36mGroup.__getitem__\u001b[0;34m(self, name)\u001b[0m\n\u001b[1;32m    303\u001b[0m         \u001b[38;5;28;01mraise\u001b[39;00m \u001b[38;5;167;01mValueError\u001b[39;00m(\u001b[38;5;124m\"\u001b[39m\u001b[38;5;124mInvalid HDF5 object reference\u001b[39m\u001b[38;5;124m\"\u001b[39m)\n\u001b[1;32m    304\u001b[0m \u001b[38;5;28;01melif\u001b[39;00m \u001b[38;5;28misinstance\u001b[39m(name, (\u001b[38;5;28mbytes\u001b[39m, \u001b[38;5;28mstr\u001b[39m)):\n\u001b[0;32m--> 305\u001b[0m     oid \u001b[38;5;241m=\u001b[39m \u001b[43mh5o\u001b[49m\u001b[38;5;241;43m.\u001b[39;49m\u001b[43mopen\u001b[49m\u001b[43m(\u001b[49m\u001b[38;5;28;43mself\u001b[39;49m\u001b[38;5;241;43m.\u001b[39;49m\u001b[43mid\u001b[49m\u001b[43m,\u001b[49m\u001b[43m \u001b[49m\u001b[38;5;28;43mself\u001b[39;49m\u001b[38;5;241;43m.\u001b[39;49m\u001b[43m_e\u001b[49m\u001b[43m(\u001b[49m\u001b[43mname\u001b[49m\u001b[43m)\u001b[49m\u001b[43m,\u001b[49m\u001b[43m \u001b[49m\u001b[43mlapl\u001b[49m\u001b[38;5;241;43m=\u001b[39;49m\u001b[38;5;28;43mself\u001b[39;49m\u001b[38;5;241;43m.\u001b[39;49m\u001b[43m_lapl\u001b[49m\u001b[43m)\u001b[49m\n\u001b[1;32m    306\u001b[0m \u001b[38;5;28;01melse\u001b[39;00m:\n\u001b[1;32m    307\u001b[0m     \u001b[38;5;28;01mraise\u001b[39;00m \u001b[38;5;167;01mTypeError\u001b[39;00m(\u001b[38;5;124m\"\u001b[39m\u001b[38;5;124mAccessing a group is done with bytes or str, \u001b[39m\u001b[38;5;124m\"\u001b[39m\n\u001b[1;32m    308\u001b[0m                     \u001b[38;5;124m\"\u001b[39m\u001b[38;5;124m not \u001b[39m\u001b[38;5;132;01m{}\u001b[39;00m\u001b[38;5;124m\"\u001b[39m\u001b[38;5;241m.\u001b[39mformat(\u001b[38;5;28mtype\u001b[39m(name)))\n",
      "File \u001b[0;32mh5py/_objects.pyx:54\u001b[0m, in \u001b[0;36mh5py._objects.with_phil.wrapper\u001b[0;34m()\u001b[0m\n",
      "File \u001b[0;32mh5py/_objects.pyx:55\u001b[0m, in \u001b[0;36mh5py._objects.with_phil.wrapper\u001b[0;34m()\u001b[0m\n",
      "File \u001b[0;32mh5py/h5o.pyx:190\u001b[0m, in \u001b[0;36mh5py.h5o.open\u001b[0;34m()\u001b[0m\n",
      "\u001b[0;31mKeyError\u001b[0m: \"Unable to open object (object 'projection_matrix' doesn't exist)\""
     ]
    }
   ],
   "source": [
    "np.array(f['frames']['0000']['camera_matrices']['projection_matrix'])"
   ]
  },
  {
   "cell_type": "code",
   "execution_count": 8,
   "metadata": {},
   "outputs": [],
   "source": [
    "def get_ax(fig):\n",
    "    ax = fig.add_subplot(projection='3d')\n",
    "    ax.set_xlim(-2, 2)\n",
    "    ax.set_ylim(-0.5, 2)\n",
    "    ax.set_zlim(-2, 2)\n",
    "    ax.view_init(elev=30., azim=30, vertical_axis='y')\n",
    "    return ax\n",
    "\n",
    "def plot_box(pts, colors, close=False):\n",
    "    fig = plt.figure(figsize=[20, 20])\n",
    "    ax = fig.add_subplot(projection='3d')\n",
    "    ax.set_xlim(-2, 2)\n",
    "    ax.set_ylim(-2, 2)\n",
    "    ax.set_zlim(-2, 2)\n",
    "    ax.view_init(elev=100., azim=-90)\n",
    "    ax.scatter(pts[:, 0], pts[:, 1], pts[:, 2], c=colors)\n",
    "    return fig\n",
    "#     plt.close(fig)\n",
    "# plot_box(vertices_orig, colors=[[0, 0, 1]])\n",
    "\n",
    "def get_transformed_pts(pts, frame, obj_id):\n",
    "    frame = str(frame).zfill(4)\n",
    "    \n",
    "#     print(frame)\n",
    "    \n",
    "    rotations_0 = np.array(f['frames'][frame]['objects']['rotations'][obj_id])\n",
    "    positions_0 = np.array(f['frames'][frame]['objects']['positions'][obj_id])\n",
    "    \n",
    "    rot = R.from_quat(rotations_0).as_matrix()\n",
    "    trans = positions_0\n",
    "    transformed_pts = np.matmul(rot, pts.T).T + np.expand_dims(trans, axis=0)\n",
    "    \n",
    "    return transformed_pts\n",
    "\n",
    "import colorsys \n",
    " \n",
    "def HSVToRGB(h, s, v): \n",
    "    (r, g, b) = colorsys.hsv_to_rgb(h, s, v) \n",
    "    return (int(255*r), int(255*g), int(255*b)) \n",
    " \n",
    "def getDistinctColors(n): \n",
    "    huePartition = 1.0 / (n + 1) \n",
    "    return np.array(list((HSVToRGB(huePartition * value, .4, .5) for value in range(0, n))))/255.0\n",
    "\n",
    "\n",
    "def get_vertices_scaled(obj_id):\n",
    "    \n",
    "    vertices_orig = np.array(f['static']['mesh']['vertices_' + str(obj_id)])\n",
    "\n",
    "    scales = f[\"static\"][\"scale\"][:]\n",
    "\n",
    "    vertices_orig[:,0] *= scales[obj_id, 0]\n",
    "    vertices_orig[:,1] *= scales[obj_id, 1]\n",
    "    vertices_orig[:,2] *= scales[obj_id, 2]\n",
    "    faces_orig = np.array(f['static']['mesh']['faces_' + str(obj_id)])\n",
    "    \n",
    "    return vertices_orig, faces_orig\n",
    "        \n",
    "def draw3DRectangle(ax, x1, y1, z1, x2, y2, z2, color):\n",
    "#     ax.set_xlim(-2, 2)\n",
    "#     ax.set_ylim(-2, 2)\n",
    "#     ax.set_zlim(-2, 2)\n",
    "    # the Translate the datatwo sets of coordinates form the apposite diagonal points of a cuboid\n",
    "    ax.plot([x1, x2], [y1, y1], [z1, z1], color=color) # | (up)\n",
    "    ax.plot([x2, x2], [y1, y2], [z1, z1], color=color) # -->\n",
    "    ax.plot([x2, x1], [y2, y2], [z1, z1], color=color) # | (down)\n",
    "    ax.plot([x1, x1], [y2, y1], [z1, z1], color=color) # <--\n",
    "\n",
    "    ax.plot([x1, x2], [y1, y1], [z2, z2], color=color) # | (up)\n",
    "    ax.plot([x2, x2], [y1, y2], [z2, z2], color=color) # -->\n",
    "    ax.plot([x2, x1], [y2, y2], [z2, z2], color=color) # | (down)\n",
    "    ax.plot([x1, x1], [y2, y1], [z2, z2], color=color) # <--\n",
    "    \n",
    "    ax.plot([x1, x1], [y1, y1], [z1, z2], color=color) # | (up)\n",
    "    ax.plot([x2, x2], [y2, y2], [z1, z2], color=color) # -->\n",
    "    ax.plot([x1, x1], [y2, y2], [z1, z2], color=color) # | (down)\n",
    "    ax.plot([x2, x2], [y1, y1], [z1, z2], color=color) # <--\n",
    "\n",
    "def draw3DRectangleBox(ax, edges, pts, all_pt, color):\n",
    "#     ax.set_xlim(-2, 2)\n",
    "#     ax.set_ylim(-2, 2)\n",
    "#     ax.set_zlim(-2, 2)\n",
    "    # the Translate the datatwo sets of coordinates form the apposite diagonal points of a cuboid\n",
    "    for edge in edges:\n",
    "        x1, y1, z1 = pts[edge[0]]\n",
    "        x2, y2, z2 = pts[edge[1]]\n",
    "        ax.plot([x1, x2], [y1, y2], [z1, z2], color=color) # | (up\n",
    "\n",
    "    ax.scatter(pts[:, 0], pts[:, 1], pts[:, 2], color=color)\n",
    "    \n",
    "    ax.scatter(all_pt[:, 0], all_pt[:, 1], all_pt[:, 2], color=color)\n",
    "    \n",
    "def get_full_bbox(vertices):\n",
    "    \n",
    "    arr1 = vertices.min(0)\n",
    "    \n",
    "    arr2 = vertices.max(0)\n",
    "    \n",
    "    arr = np.stack([arr1, arr2], 0)\n",
    "    \n",
    "    pts = [(0, 0, 0), (0, 0, 1), (0, 1, 1), (0, 1, 0) , (1, 0, 0), (1, 0, 1), (1, 1, 1), (1, 1, 0)]\n",
    "         \n",
    "    all_edges = [(0, 1), (1, 2), (2, 3), (3, 0),  (4, 5), (5, 6), (6, 7), (7, 4), (0, 4), (1, 5), (2, 6), (3, 7)]\n",
    "    \n",
    "    all_faces = [(0, 1, 2, 3), (4, 5, 6, 7), (2, 3, 6, 7), (1, 0, 4, 5), (1, 2, 6, 5), \\\n",
    "                (0, 4, 7, 3)]    \n",
    "    \n",
    "    index = np.arange(3)\n",
    "    \n",
    "    all_pts = []\n",
    "    for pt in pts:\n",
    "        p1 = arr[pt, index]\n",
    "        all_pts.append(p1)\n",
    "    \n",
    "    all_pts = np.stack(all_pts, 0)\n",
    "    \n",
    "    return all_pts, all_edges, all_faces    \n",
    "\n",
    "def scatter_pts(pts):\n",
    "    \n",
    "    fig = plt.figure()    \n",
    "    ax = fig.add_subplot(111, projection='3d')\n",
    "    ax.set_xlim(-2, 2)\n",
    "    ax.set_ylim(-2, 2)\n",
    "    ax.set_zlim(-2, 2)\n",
    "    ax.view_init(elev=100., azim=-90)\n",
    "    ax.scatter(pts[:, 0], pts[:, 1], pts[:, 2])\n",
    "    return"
   ]
  },
  {
   "cell_type": "code",
   "execution_count": 9,
   "metadata": {},
   "outputs": [],
   "source": [
    "from sympy import *\n",
    "def asCartesian(rthetaphi):\n",
    "    #takes list rthetaphi (single coord)\n",
    "    r       = rthetaphi[0]\n",
    "    theta   = rthetaphi[1]* pi/180 # to radian\n",
    "    phi     = rthetaphi[2]* pi/180\n",
    "    x = r * sin( theta ) * cos( phi )\n",
    "    y = r * sin( theta ) * sin( phi )\n",
    "    z = r * cos( theta )\n",
    "    return [x,y,z]\n",
    "\n",
    "def asSpherical(xyz):\n",
    "    #takes list xyz (single coord)\n",
    "    x       = xyz[0]\n",
    "    y       = xyz[1]\n",
    "    z       = xyz[2]\n",
    "    r       =  sqrt(x*x + y*y + z*z)\n",
    "    theta   =  acos(z/r)*180/ pi #to degrees\n",
    "    phi     =  atan2(y,x)*180/ pi\n",
    "    return [r,theta,phi]"
   ]
  },
  {
   "cell_type": "code",
   "execution_count": 1,
   "metadata": {},
   "outputs": [],
   "source": [
    "def plot_box(pts, colors, close=False):\n",
    "    fig = plt.figure()\n",
    "    ax = fig.add_subplot(projection='3d')\n",
    "    ax.set_xlim(-2, 2)\n",
    "    ax.set_ylim(-2, 2)\n",
    "    ax.set_zlim(-2, 2)\n",
    "    ax.view_init(elev=100., azim=-90)\n",
    "    ax.scatter(pts[:, 0], pts[:, 1], pts[:, 2], c=colors)\n",
    "    return fig"
   ]
  },
  {
   "cell_type": "code",
   "execution_count": 10,
   "metadata": {},
   "outputs": [],
   "source": [
    "reject = np.array(f['static']['model_names']) != b'cube'\n",
    "\n",
    "object_ids = np.array(f['static']['object_ids'])\n",
    "\n",
    "colors = [[0, 1, 0], [1, 0, 0]]\n",
    "\n",
    "colors += list(getDistinctColors(len(object_ids)-2))\n",
    "\n",
    "#NOTE THE FIRST OBJECT IS ALWAYS THE PATIENT\n",
    "frame_no = 0\n",
    "\n",
    "# %matplotlib notebook\n",
    "# %matplotlib notebook\n",
    "\n",
    "%matplotlib inline\n",
    "\n",
    "all_imgs = []\n",
    "\n",
    "for frame_no in range(len(f['frames'])):\n",
    "    \n",
    "    fig = plt.figure(figsize=[10, 10])\n",
    "    ax = get_ax(fig)\n",
    "\n",
    "    all_pts = []\n",
    "    all_colors = []\n",
    "    all_meshes = []\n",
    "    \n",
    "    for obj_id in object_ids:\n",
    "        obj_id = obj_id-1    \n",
    "        if not reject[obj_id]:\n",
    "            vertices_orig, faces_orig = get_vertices_scaled(obj_id)\n",
    "            \n",
    "            all_pts, all_edges, all_faces = get_full_bbox(vertices_orig)\n",
    "            \n",
    "            frame_pts = get_transformed_pts(all_pts, frame_no, obj_id)\n",
    "            \n",
    "            all_frame_pts = get_transformed_pts(vertices_orig, frame_no, obj_id)\n",
    "            \n",
    "            #encoding\n",
    "            p1 = all_pts[0]\n",
    "            \n",
    "            p2 = all_pts[6]\n",
    "            \n",
    "            dir_ = all_pts[3] - p1\n",
    "            \n",
    "            [r, theta, phi] = asSpherical(dir_)\n",
    "            \n",
    "            encoding = [p1, p2, r, theta, phi]\n",
    "            \n",
    "#             mesh = trimesh.Trimesh(vertices=all_pts[:, [0, 2, 1]], faces=all_faces)\n",
    "            \n",
    "#             mesh = pyrender.Mesh.from_trimesh(mesh)\n",
    "            \n",
    "#             all_meshes.append(mesh)\n",
    "            \n",
    "            draw3DRectangleBox(ax, all_edges, frame_pts, all_frame_pts, colors[obj_id])\n",
    "            \n",
    "#             break\n",
    "            \n",
    "#     break\n",
    "    \n",
    "    fig.savefig('temp.png')\n",
    "    \n",
    "    plt.close(fig)\n",
    "\n",
    "    img = plt.imread('temp.png')\n",
    "    \n",
    "    all_imgs.append(img)\n",
    "    \n",
    "#     break\n",
    "    \n",
    "\n",
    "# frame_50_pts = get_transformed_pts(vertices_orig, 150, obj_id)"
   ]
  },
  {
   "cell_type": "code",
   "execution_count": 243,
   "metadata": {},
   "outputs": [],
   "source": [
    "# scene = pyrender.Scene()\n",
    "# for mesh in all_meshes:\n",
    "#     scene.add(mesh)\n",
    "\n",
    "# pyrender.Viewer(scene, use_raymond_lighting=True)"
   ]
  },
  {
   "cell_type": "code",
   "execution_count": 11,
   "metadata": {},
   "outputs": [],
   "source": [
    "import subprocess\n",
    "import cv2\n",
    "def write_video(file_path, frames, fps):\n",
    "    \"\"\"\n",
    "    Writes frames to an mp4 video file\n",
    "    :param file_path: Path to output video, must end with .mp4\n",
    "    :param frames: List of PIL.Image objects\n",
    "    :param fps: Desired frame rate\n",
    "    \"\"\"\n",
    "\n",
    "    h, w = frames[0].shape[:2]\n",
    "    fourcc = cv2.cv2.VideoWriter_fourcc(*\"MJPG\")# cv2.VideoWriter_fourcc('m', 'p', '4', 'v')\n",
    "    writer = cv2.VideoWriter(file_path, fourcc, fps, (w, h))\n",
    "\n",
    "    for frame in frames:\n",
    "        writer.write((frame[:, :, :3]*255).astype('uint8'))\n",
    "\n",
    "    writer.release() "
   ]
  },
  {
   "cell_type": "code",
   "execution_count": 12,
   "metadata": {},
   "outputs": [],
   "source": [
    "write_video(name + '.avi', all_imgs, 30)"
   ]
  },
  {
   "cell_type": "code",
   "execution_count": 13,
   "metadata": {},
   "outputs": [
    {
     "data": {
      "text/plain": [
       "<matplotlib.image.AxesImage at 0x147236970>"
      ]
     },
     "execution_count": 13,
     "metadata": {},
     "output_type": "execute_result"
    },
    {
     "data": {
      "image/png": "[encoded data removed]",
      "text/plain": [
       "<Figure size 432x288 with 1 Axes>"
      ]
     },
     "metadata": {
      "needs_background": "light"
     },
     "output_type": "display_data"
    }
   ],
   "source": [
    "plt.imshow(all_imgs[0])"
   ]
  },
  {
   "cell_type": "code",
   "execution_count": null,
   "metadata": {},
   "outputs": [],
   "source": []
  }
 ],
 "metadata": {
  "kernelspec": {
   "display_name": "testpy3_home",
   "language": "python",
   "name": "testpy3_home"
  },
  "language_info": {
   "codemirror_mode": {
    "name": "ipython",
    "version": 3
   },
   "file_extension": ".py",
   "mimetype": "text/x-python",
   "name": "python",
   "nbconvert_exporter": "python",
   "pygments_lexer": "ipython3",
   "version": "3.7.5"
  }
 },
 "nbformat": 4,
 "nbformat_minor": 4
}
